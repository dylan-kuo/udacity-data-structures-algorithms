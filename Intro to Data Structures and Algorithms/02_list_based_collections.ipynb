{
  "nbformat": 4,
  "nbformat_minor": 0,
  "metadata": {
    "colab": {
      "name": "list_based_collections.ipynb",
      "provenance": [],
      "collapsed_sections": []
    },
    "kernelspec": {
      "name": "python3",
      "display_name": "Python 3"
    }
  },
  "cells": [
    {
      "cell_type": "markdown",
      "metadata": {
        "id": "209fDPXCG2X6",
        "colab_type": "text"
      },
      "source": [
        "## Linked list"
      ]
    },
    {
      "cell_type": "code",
      "metadata": {
        "id": "3pQ2j_nfyf6G",
        "colab_type": "code",
        "colab": {}
      },
      "source": [
        "class Element(object):\n",
        "    def __init__(self, value):\n",
        "        self.value = value\n",
        "        self.next = None        \n",
        "\n",
        "class LinkedList(object):\n",
        "    def __init__(self, head=None):\n",
        "        self.head = head        \n",
        "\n",
        "    def append(self, new_element):\n",
        "        ''' Add a new node to the last position '''\n",
        "        current = self.head\n",
        "        if self.head:\n",
        "            while current.next:\n",
        "                current = current.next\n",
        "            current.next = new_element\n",
        "        else:\n",
        "            self.head = new_element\n",
        "\n",
        "    def get_position(self, position):\n",
        "        ''' Get an element from a particular position '''\n",
        "        counter = 1\n",
        "        current = self.head\n",
        "        if position < 1:\n",
        "            return None\n",
        "        while current and counter <= position:\n",
        "            if counter == position:\n",
        "                return current\n",
        "            current = current.next\n",
        "            counter += 1\n",
        "        return None\n",
        "        \n",
        "    def insert(self, new_element, position):\n",
        "        ''' Insert a new node at a given position '''\n",
        "        counter = 1\n",
        "        current = self.head\n",
        "        if position > 1:\n",
        "            while current and counter < position:\n",
        "                if counter == position -1:\n",
        "                    new_element.next = current.next\n",
        "                    current.next = new_element\n",
        "                current = current.next\n",
        "                counter += 1\n",
        "        elif position == 1:\n",
        "            new_element.next = self.head\n",
        "            self.head = new_element\n",
        "        \n",
        "    def delete(self, value):\n",
        "        ''' Delete the first node with a given value '''\n",
        "        current = self.head\n",
        "        previous = None\n",
        "        while current.value != value and current.next:\n",
        "            previous = current\n",
        "            current = current.next\n",
        "        if current.value == value:\n",
        "            if previous:\n",
        "                previous.next = current.next\n",
        "            else:\n",
        "                self.head = current.next            "
      ],
      "execution_count": 0,
      "outputs": []
    },
    {
      "cell_type": "code",
      "metadata": {
        "id": "KYtTmoLWDTrE",
        "colab_type": "code",
        "outputId": "60c13768-b52c-4f1f-86a6-510c8a6124a9",
        "colab": {
          "base_uri": "https://localhost:8080/",
          "height": 108
        }
      },
      "source": [
        "# Setup\n",
        "# Test cases\n",
        "e1 = Element(1)\n",
        "e2 = Element(2)\n",
        "e3 = Element(3)\n",
        "e4 = Element(4)\n",
        "\n",
        "ll = LinkedList(e1)\n",
        "ll.append(e2)\n",
        "ll.append(e3)\n",
        "\n",
        "# Test get_position\n",
        "print(ll.head.next.next.value) # should print 3\n",
        "print(ll.get_position(3).value) # should also print 3\n",
        "\n",
        "# Test insert\n",
        "ll.insert(e4, 3)\n",
        "print(ll.get_position(3).value) # should print 4 now  (list: 1, 2, 4, 3)\n",
        "\n",
        "# Test delete\n",
        "ll.delete(1)\n",
        "print(ll.get_position(1).value) # should print 2 now   (list: 2, 4, 3)\n",
        "print(ll.get_position(2).value) # should print 4 now\n",
        "\n"
      ],
      "execution_count": 0,
      "outputs": [
        {
          "output_type": "stream",
          "text": [
            "3\n",
            "3\n",
            "4\n",
            "2\n",
            "4\n"
          ],
          "name": "stdout"
        }
      ]
    },
    {
      "cell_type": "markdown",
      "metadata": {
        "id": "Bmh0T3qSzlex",
        "colab_type": "text"
      },
      "source": [
        "##Stack\n",
        "First In, Last Out\n"
      ]
    },
    {
      "cell_type": "code",
      "metadata": {
        "id": "d9pNOWqJHF-p",
        "colab_type": "code",
        "colab": {}
      },
      "source": [
        "class Element(object):\n",
        "    def __init__(self, value):\n",
        "        self.value = value\n",
        "        self.next = None\n",
        "\n",
        "class LinkedList(object):\n",
        "    def __init__(self, head=None):\n",
        "        self.head = head\n",
        "    \n",
        "    def append(self, new_element):\n",
        "        current = self.head\n",
        "        if self.head:\n",
        "            while current.next:\n",
        "                current = current.next\n",
        "            current.next = new_element\n",
        "        else:\n",
        "            self.head = new_element\n",
        "\n",
        "    def insert_fist(self, new_element):\n",
        "        ''' Insert the new elemet as the hed of the Linkedlist '''\n",
        "        new_element.next = self.head\n",
        "        self.head = new_element\n",
        "\n",
        "    def delete_first(self):\n",
        "        ''' Delete the first (head) element in the LinkedList as return it '''\n",
        "        deleted = self.head\n",
        "        if self.head:\n",
        "            self.head = self.head.next\n",
        "            deleted.next = None\n",
        "        return deleted\n",
        "\n",
        "class Stack(object):\n",
        "    def __init__(self, top=None):\n",
        "        self.ll = LinkedList(top)\n",
        "\n",
        "    def push(self, new_element):\n",
        "        self.ll.insert_first(new_element)\n",
        "\n",
        "    def pop(self):\n",
        "        return self.ll.delete_first()"
      ],
      "execution_count": 0,
      "outputs": []
    },
    {
      "cell_type": "markdown",
      "metadata": {
        "id": "-b1OBxJWMPD1",
        "colab_type": "text"
      },
      "source": [
        "##Queue\n",
        "First In, First Out"
      ]
    },
    {
      "cell_type": "code",
      "metadata": {
        "id": "QkPLCuOdMx5R",
        "colab_type": "code",
        "colab": {}
      },
      "source": [
        "class Queue:\n",
        "    def __init__(self, head=None):\n",
        "        self.storage = [head]\n",
        "\n",
        "    def enqueue(self, new_element):\n",
        "        self.storage.append(new_element)\n",
        "    \n",
        "    def peek(self):\n",
        "        return self.storage[0]\n",
        "\n",
        "    def dequeue(self):\n",
        "        return self.storage.pop(0)\n"
      ],
      "execution_count": 0,
      "outputs": []
    },
    {
      "cell_type": "code",
      "metadata": {
        "id": "dZpGJi2qMnUQ",
        "colab_type": "code",
        "outputId": "8c6c4bfc-2995-4803-b1e8-25c180d1e379",
        "colab": {
          "base_uri": "https://localhost:8080/",
          "height": 126
        }
      },
      "source": [
        "# Setup \n",
        "q = Queue(1)\n",
        "q.enqueue(2)\n",
        "q.enqueue(3)\n",
        "\n",
        "# Test peek\n",
        "print(q.peek())  # (list: > 1, 2, 3)\n",
        "\n",
        "# Test dequeue\n",
        "print(q.dequeue()) # (list: 2, 3)\n",
        "\n",
        "# Test enqueue\n",
        "q.enqueue(4)  \n",
        "print(q.dequeue()) # should print 2  (list: 3, 4)\n",
        "print(q.dequeue()) # Should print 3  (list: 4)\n",
        "print(q.dequeue()) # Should print 4  (list: None)\n",
        "q.enqueue(5)  # (list: 5)\n",
        "print(q.peek()) # Should be 5  (list: 5)"
      ],
      "execution_count": 0,
      "outputs": [
        {
          "output_type": "stream",
          "text": [
            "1\n",
            "1\n",
            "2\n",
            "3\n",
            "4\n",
            "5\n"
          ],
          "name": "stdout"
        }
      ]
    }
  ]
}