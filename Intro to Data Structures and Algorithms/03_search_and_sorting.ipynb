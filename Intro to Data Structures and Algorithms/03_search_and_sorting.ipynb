{
  "nbformat": 4,
  "nbformat_minor": 0,
  "metadata": {
    "colab": {
      "name": "03_search_and_sorting.ipynb",
      "provenance": []
    },
    "kernelspec": {
      "name": "python3",
      "display_name": "Python 3"
    }
  },
  "cells": [
    {
      "cell_type": "markdown",
      "metadata": {
        "id": "4mSZcvnRtME6",
        "colab_type": "text"
      },
      "source": [
        "##Binary Search\n",
        "\n",
        "- Time Complexitiy: O(log n)\n",
        " - Worst Case: O(log n)\n",
        " - Average Case: O(log n)\n",
        " - Best Case: O(1)\n",
        "- Space Complexity: O(1)\n",
        "\n",
        "\n",
        "Reference: https://www.cs.usfca.edu/~galles/visualization/Search.html"
      ]
    },
    {
      "cell_type": "code",
      "metadata": {
        "id": "RtnIXhxWtRek",
        "colab_type": "code",
        "colab": {}
      },
      "source": [
        " \"\"\"You're going to write a binary search function.\n",
        "You should use an iterative approach - meaning\n",
        "using loops.\n",
        "Your function should take two inputs:\n",
        "a Python list to search through, and the value\n",
        "you're searching for.\n",
        "Assume the list only has distinct elements,\n",
        "meaning there are no repeated values, and \n",
        "elements are in a strictly increasing order.\n",
        "Return the index of value, or -1 if the value\n",
        "doesn't exist in the list.\n",
        "\"\"\"\n",
        "\n",
        "def binary_search(input_array, value):\n",
        "    low = 0\n",
        "    high = len(input_array) - 1\n",
        "    while low <= high:\n",
        "        mid = (low + high) // 2\n",
        "        if input_array[mid] == value:\n",
        "            return mid\n",
        "        elif input_array[mid] < value:\n",
        "            low = mid + 1\n",
        "        else:\n",
        "            high = mid - 1\n",
        "    return -1"
      ],
      "execution_count": 0,
      "outputs": []
    },
    {
      "cell_type": "code",
      "metadata": {
        "id": "a2TBf54e0utL",
        "colab_type": "code",
        "outputId": "671668b9-ca27-4af2-9d45-2f19f3958e33",
        "colab": {
          "base_uri": "https://localhost:8080/",
          "height": 54
        }
      },
      "source": [
        "# Test Cases\n",
        "test_list = [1,3,9,11,15,19,29]\n",
        "test_val1 = 25\n",
        "test_val2 = 15\n",
        "\n",
        "print(binary_search(test_list, test_val1))\n",
        "print(binary_search(test_list, test_val2))"
      ],
      "execution_count": 0,
      "outputs": [
        {
          "output_type": "stream",
          "text": [
            "-1\n",
            "4\n"
          ],
          "name": "stdout"
        }
      ]
    },
    {
      "cell_type": "markdown",
      "metadata": {
        "id": "qiPIEQlh64Wk",
        "colab_type": "text"
      },
      "source": [
        "###Recursion\n",
        "Use Fibonacci sequence as the example\n"
      ]
    },
    {
      "cell_type": "code",
      "metadata": {
        "id": "GWK29lsQ7BoL",
        "colab_type": "code",
        "colab": {}
      },
      "source": [
        "\"\"\"Implement a function recursively to get the desired\n",
        "Fibonacci sequence value.\n",
        "Your code should have the same input/output as the \n",
        "iterative code in the instructions.\"\"\"\n",
        "\n",
        "def get_fib(position):\n",
        "    if position == 0 or position == 1:\n",
        "        return position\n",
        "    return get_fib(position - 1) + get_fib(position -2)"
      ],
      "execution_count": 0,
      "outputs": []
    },
    {
      "cell_type": "code",
      "metadata": {
        "id": "xM3647r1COQ1",
        "colab_type": "code",
        "outputId": "f8997413-b0dd-40f8-cfa1-21d6adad5fe3",
        "colab": {
          "base_uri": "https://localhost:8080/",
          "height": 72
        }
      },
      "source": [
        "# Test cases\n",
        "print(get_fib(9))\n",
        "print(get_fib(11))\n",
        "print(get_fib(0))"
      ],
      "execution_count": 0,
      "outputs": [
        {
          "output_type": "stream",
          "text": [
            "34\n",
            "89\n",
            "0\n"
          ],
          "name": "stdout"
        }
      ]
    },
    {
      "cell_type": "markdown",
      "metadata": {
        "id": "3un-u4SwCPqo",
        "colab_type": "text"
      },
      "source": [
        "##Bubble Sort (Naive approach)\n",
        "- Time Complexity: O(n^2)\n",
        "\n",
        " - Worst Case: O(n^2)\n",
        "\n",
        " - Average Case: O(n^2)\n",
        "\n",
        " - Best Case: O(n)\n",
        "- Space Complexity: O(1)\n",
        "\n",
        "\n"
      ]
    },
    {
      "cell_type": "code",
      "metadata": {
        "id": "HVzydVjaO1Wt",
        "colab_type": "code",
        "colab": {}
      },
      "source": [
        "def bubble_sort(input_array):\n",
        "    for i in range(0, len(input_array) - 1):\n",
        "        for j in range(0, len(input_array) - 1 - i):\n",
        "            if input_array[j] > input_array[j+1]:\n",
        "                input_array[j], input_array[j+1] = input_array[j+1], input_array[j]\n",
        "    return input_array"
      ],
      "execution_count": 0,
      "outputs": []
    },
    {
      "cell_type": "code",
      "metadata": {
        "id": "ttyERDBsOy0m",
        "colab_type": "code",
        "outputId": "cd59b68e-b329-42d1-a14b-de0ac2cad8d2",
        "colab": {
          "base_uri": "https://localhost:8080/",
          "height": 35
        }
      },
      "source": [
        "# Test case\n",
        "test_list = [4, 3, 5, 10, 1, 19, 6, 25, 135, 2, 2]\n",
        "print(bubble_sort(test_list))"
      ],
      "execution_count": 0,
      "outputs": [
        {
          "output_type": "stream",
          "text": [
            "[1, 2, 2, 3, 4, 5, 6, 10, 19, 25, 135]\n"
          ],
          "name": "stdout"
        }
      ]
    },
    {
      "cell_type": "markdown",
      "metadata": {
        "id": "INyrIsCxr3Ri",
        "colab_type": "text"
      },
      "source": [
        "##Merge Sort\n",
        "- Time Complexity: O(nlog n)\n",
        " - Worst Case: O(n log n)\n",
        " - Average Case: O(n log n)\n",
        " - Best Case: O(n log n) typical, O(n) natural variant\n",
        "- Space Complexity: O(n) \n",
        "\n",
        "Reference: https://www.youtube.com/watch?v=_trEkEX_-2Q\n"
      ]
    },
    {
      "cell_type": "code",
      "metadata": {
        "id": "20r1oSfWMbbY",
        "colab_type": "code",
        "colab": {}
      },
      "source": [
        "def merge_sort(input_array):\n",
        "    # dividing part\n",
        "    if len(input_array) > 1:\n",
        "        mid = len(input_array) // 2\n",
        "        lo, hi = input_array[:mid], input_array[mid:]        \n",
        "        merge_sort(lo)\n",
        "        merge_sort(hi)\n",
        "        i = j = k = 0\n",
        "\n",
        "        # merging part \n",
        "        while i < len(lo) and j < len(hi):\n",
        "            if lo[i] < hi[j]:    # lo[i] > hi[j] => descending order\n",
        "                input_array[k] = lo[i]\n",
        "                i += 1   \n",
        "                k += 1             \n",
        "            else:\n",
        "                input_array[k] = hi[j]                \n",
        "                j += 1\n",
        "                k += 1\n",
        "\n",
        "        # check if any value is left off \n",
        "        while i < len(lo):\n",
        "            input_array[k] = lo[i]\n",
        "            i += 1\n",
        "            k += 1\n",
        "        while j < len(hi):\n",
        "            input_array[k] = hi[j]\n",
        "            j += 1\n",
        "            k += 1"
      ],
      "execution_count": 0,
      "outputs": []
    },
    {
      "cell_type": "code",
      "metadata": {
        "id": "LgC3DoPqOY77",
        "colab_type": "code",
        "outputId": "89aad648-1559-4f92-b68e-00d49164c50c",
        "colab": {
          "base_uri": "https://localhost:8080/",
          "height": 163
        }
      },
      "source": [
        "# Test case: get input for the list\n",
        "num = int(input('How many elements you want in the list:'))\n",
        "test_list = [int(input()) for x in range(num)]\n",
        "merge_sort(test_list)\n",
        "print('Sorted list is:', test_list)"
      ],
      "execution_count": 0,
      "outputs": [
        {
          "output_type": "stream",
          "text": [
            "How many elements you want in the list:6\n",
            "10\n",
            "27\n",
            "5\n",
            "1\n",
            "16\n",
            "11\n",
            "Sorted list is: [1, 5, 10, 11, 16, 27]\n"
          ],
          "name": "stdout"
        }
      ]
    }
  ]
}