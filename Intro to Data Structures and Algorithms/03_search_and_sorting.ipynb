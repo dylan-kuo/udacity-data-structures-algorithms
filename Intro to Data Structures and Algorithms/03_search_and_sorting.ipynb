{
 "cells": [
  {
   "cell_type": "markdown",
   "metadata": {
    "colab_type": "text",
    "id": "4mSZcvnRtME6"
   },
   "source": [
    "## Binary Search\n",
    "\n",
    "- Time Complexitiy:\n",
    "    - Worst Case: O(log n)\n",
    "    - Average Case: O(log n)\n",
    "    - Best Case: O(1)\n",
    "- Space Complexity: O(1)\n",
    "\n",
    "\n",
    "Reference: https://www.cs.usfca.edu/~galles/visualization/Search.html"
   ]
  },
  {
   "cell_type": "code",
   "execution_count": 1,
   "metadata": {
    "colab": {},
    "colab_type": "code",
    "id": "RtnIXhxWtRek"
   },
   "outputs": [],
   "source": [
    " \"\"\"You're going to write a binary search function.\n",
    "You should use an iterative approach - meaning\n",
    "using loops.\n",
    "Your function should take two inputs:\n",
    "a Python list to search through, and the value\n",
    "you're searching for.\n",
    "Assume the list only has distinct elements,\n",
    "meaning there are no repeated values, and \n",
    "elements are in a strictly increasing order.\n",
    "Return the index of value, or -1 if the value\n",
    "doesn't exist in the list.\n",
    "\"\"\"\n",
    "\n",
    "def binary_search(input_array, value):\n",
    "    low = 0\n",
    "    high = len(input_array) - 1\n",
    "    while low <= high:\n",
    "        mid = (low + high) // 2\n",
    "        if input_array[mid] == value:\n",
    "            return mid\n",
    "        elif input_array[mid] < value:\n",
    "            low = mid + 1\n",
    "        else:\n",
    "            high = mid - 1\n",
    "    return -1"
   ]
  },
  {
   "cell_type": "code",
   "execution_count": 2,
   "metadata": {
    "colab": {
     "base_uri": "https://localhost:8080/",
     "height": 54
    },
    "colab_type": "code",
    "id": "a2TBf54e0utL",
    "outputId": "671668b9-ca27-4af2-9d45-2f19f3958e33"
   },
   "outputs": [
    {
     "name": "stdout",
     "output_type": "stream",
     "text": [
      "-1\n",
      "4\n"
     ]
    }
   ],
   "source": [
    "# Test Cases\n",
    "test_list = [1,3,9,11,15,19,29]\n",
    "test_val1 = 25\n",
    "test_val2 = 15\n",
    "\n",
    "print(binary_search(test_list, test_val1))\n",
    "print(binary_search(test_list, test_val2))"
   ]
  },
  {
   "cell_type": "markdown",
   "metadata": {
    "colab_type": "text",
    "id": "qiPIEQlh64Wk"
   },
   "source": [
    "### Recursion\n",
    "Use Fibonacci sequence as the example\n"
   ]
  },
  {
   "cell_type": "code",
   "execution_count": 0,
   "metadata": {
    "colab": {},
    "colab_type": "code",
    "id": "GWK29lsQ7BoL"
   },
   "outputs": [],
   "source": [
    "\"\"\"Implement a function recursively to get the desired\n",
    "Fibonacci sequence value.\n",
    "Your code should have the same input/output as the \n",
    "iterative code in the instructions.\"\"\"\n",
    "\n",
    "def get_fib(position):\n",
    "    if position == 0 or position == 1:\n",
    "        return position\n",
    "    return get_fib(position - 1) + get_fib(position -2)"
   ]
  },
  {
   "cell_type": "code",
   "execution_count": 0,
   "metadata": {
    "colab": {
     "base_uri": "https://localhost:8080/",
     "height": 72
    },
    "colab_type": "code",
    "id": "xM3647r1COQ1",
    "outputId": "f8997413-b0dd-40f8-cfa1-21d6adad5fe3"
   },
   "outputs": [
    {
     "name": "stdout",
     "output_type": "stream",
     "text": [
      "34\n",
      "89\n",
      "0\n"
     ]
    }
   ],
   "source": [
    "# Test cases\n",
    "print(get_fib(9))\n",
    "print(get_fib(11))\n",
    "print(get_fib(0))"
   ]
  },
  {
   "cell_type": "markdown",
   "metadata": {
    "colab_type": "text",
    "id": "3un-u4SwCPqo"
   },
   "source": [
    "## Bubble Sort \n",
    "- Time Complexity: \n",
    "    - Worst Case: O(n^2)\n",
    "    - Average Case: O(n^2)\n",
    "    - Best Case: O(n)\n",
    "- Space Complexity: O(1)"
   ]
  },
  {
   "cell_type": "code",
   "execution_count": 3,
   "metadata": {
    "colab": {},
    "colab_type": "code",
    "id": "HVzydVjaO1Wt"
   },
   "outputs": [],
   "source": [
    "'''\n",
    "Bubble Sort worst time complexity occurs when array is reverse sorted - O(n^2)\n",
    "Best time scenario is when array is already sorted - O(n)\n",
    "'''\n",
    "\n",
    "def bubble_sort(input_array):\n",
    "    for i in range(0, len(input_array) - 1):\n",
    "        for j in range(0, len(input_array) - 1 - i):\n",
    "            if input_array[j] > input_array[j+1]:\n",
    "                input_array[j], input_array[j+1] = input_array[j+1], input_array[j]\n",
    "    return input_array"
   ]
  },
  {
   "cell_type": "code",
   "execution_count": 4,
   "metadata": {
    "colab": {
     "base_uri": "https://localhost:8080/",
     "height": 35
    },
    "colab_type": "code",
    "id": "ttyERDBsOy0m",
    "outputId": "cd59b68e-b329-42d1-a14b-de0ac2cad8d2"
   },
   "outputs": [
    {
     "name": "stdout",
     "output_type": "stream",
     "text": [
      "[1, 2, 2, 3, 4, 5, 6, 10, 19, 25, 135]\n"
     ]
    }
   ],
   "source": [
    "# Test case\n",
    "test_list = [4, 3, 5, 10, 1, 19, 6, 25, 135, 2, 2]\n",
    "print(bubble_sort(test_list))"
   ]
  },
  {
   "cell_type": "markdown",
   "metadata": {
    "colab_type": "text",
    "id": "INyrIsCxr3Ri"
   },
   "source": [
    "## Merge Sort\n",
    "- Time Complexity: \n",
    "    - Worst Case: O(n log n)\n",
    "    - Average Case: O(n log n)\n",
    "    - Best Case: O(n log n) typical, O(n) natural variant\n",
    "- Space Complexity: O(n) \n",
    "\n",
    "Reference: https://www.youtube.com/watch?v=_trEkEX_-2Q"
   ]
  },
  {
   "cell_type": "code",
   "execution_count": 5,
   "metadata": {
    "colab": {},
    "colab_type": "code",
    "id": "20r1oSfWMbbY"
   },
   "outputs": [],
   "source": [
    "\"\"\"\n",
    "High level explanation:\n",
    "merge_sort is a Divide and conquer algorithm that splits in halves the array and\n",
    "then builds it back up by merging and sorting at the same time its elements.\n",
    "Time complexity:\n",
    "merge_sort has a time complexity of O(n log n).\n",
    "\"\"\"\n",
    "\n",
    "def merge_sort(input_array):\n",
    "    # dividing part\n",
    "    if len(input_array) > 1:\n",
    "        mid = len(input_array) // 2\n",
    "        lo, hi = input_array[:mid], input_array[mid:]        \n",
    "        merge_sort(lo)\n",
    "        merge_sort(hi)\n",
    "        i = j = k = 0\n",
    "\n",
    "        # merging part \n",
    "        while i < len(lo) and j < len(hi):\n",
    "            if lo[i] < hi[j]:    # lo[i] > hi[j] => descending order\n",
    "                input_array[k] = lo[i]\n",
    "                i += 1   \n",
    "                k += 1             \n",
    "            else:\n",
    "                input_array[k] = hi[j]                \n",
    "                j += 1\n",
    "                k += 1\n",
    "\n",
    "        # check if any value is left off \n",
    "        while i < len(lo):\n",
    "            input_array[k] = lo[i]\n",
    "            i += 1\n",
    "            k += 1\n",
    "        while j < len(hi):\n",
    "            input_array[k] = hi[j]\n",
    "            j += 1\n",
    "            k += 1"
   ]
  },
  {
   "cell_type": "code",
   "execution_count": 6,
   "metadata": {
    "colab": {
     "base_uri": "https://localhost:8080/",
     "height": 163
    },
    "colab_type": "code",
    "id": "LgC3DoPqOY77",
    "outputId": "89aad648-1559-4f92-b68e-00d49164c50c"
   },
   "outputs": [
    {
     "name": "stdout",
     "output_type": "stream",
     "text": [
      "How many elements you want in the list:5\n",
      "16\n",
      "27\n",
      "11\n",
      "1\n",
      "5\n",
      "Sorted list is: [1, 5, 11, 16, 27]\n"
     ]
    }
   ],
   "source": [
    "# Test case: get input for the list\n",
    "num = int(input('How many elements you want in the list:'))\n",
    "test_list = [int(input()) for x in range(num)]\n",
    "merge_sort(test_list)\n",
    "print('Sorted list is:', test_list)"
   ]
  },
  {
   "cell_type": "markdown",
   "metadata": {},
   "source": [
    "## Quick Sort\n",
    "- Time Complexity:\n",
    "    - Worst Case: O(n^2)\n",
    "    - Average Case: O(n log n)\n",
    "    - Best Case: O(n log n)\n",
    "- Space Complexity: O(1)"
   ]
  },
  {
   "cell_type": "code",
   "execution_count": 7,
   "metadata": {},
   "outputs": [],
   "source": [
    "\"\"\"\n",
    "High level explanation:\n",
    "Quicksort algorithm is that if we can efficiently partition a list, \n",
    "then we can efficiently sort it. Partitioning a list means that \n",
    "we pick a pivot item in the list, and then modify the list \n",
    "to move all items larger than the pivot to the right and all \n",
    "smaller items to the left.\n",
    "Once the pivot is done, we can do the same operation to the \n",
    "left and right sections of the list recursively until the list is sorted.\n",
    "Time complexity:\n",
    "Quicksort has a time complexity of O(n log n).\n",
    "\"\"\"\n",
    "\n",
    "def quick_sort(arr):\n",
    "    if len(arr) <= 1:\n",
    "        return arr\n",
    "    pivot = arr.pop()  # select the rightmost value as the pivot \n",
    "    greater, lesser = [], []\n",
    "    for item in arr:\n",
    "        if item > pivot:\n",
    "            greater.append(item)\n",
    "        else:\n",
    "            lesser.append(item)\n",
    "    return quick_sort(lesser) + [pivot] + quick_sort(greater)"
   ]
  },
  {
   "cell_type": "code",
   "execution_count": 8,
   "metadata": {},
   "outputs": [
    {
     "name": "stdout",
     "output_type": "stream",
     "text": [
      "[1, 2, 2, 3, 4, 5, 6, 10, 19, 25, 135]\n"
     ]
    }
   ],
   "source": [
    "# Test case\n",
    "test_list = [4, 3, 5, 10, 1, 19, 6, 25, 135, 2, 2]\n",
    "print(quick_sort(test_list))"
   ]
  },
  {
   "cell_type": "markdown",
   "metadata": {},
   "source": [
    "Optimizing Quick Sort by choosing the median of three as the pivot"
   ]
  },
  {
   "cell_type": "code",
   "execution_count": 12,
   "metadata": {},
   "outputs": [],
   "source": [
    "def quick_sort(arr):\n",
    "    if len(arr) <= 1:\n",
    "        return arr\n",
    "    index_median_three = get_median_three(arr)\n",
    "    pivot = arr.pop(index_median_three) # selecting the median of three as the pivot\n",
    "    greater, lesser = [], []\n",
    "    for item in arr:\n",
    "        if item > pivot:\n",
    "            greater.append(item)\n",
    "        else:\n",
    "            lesser.append(item)\n",
    "    return quick_sort(lesser) + [pivot] + quick_sort(greater)\n",
    "\n",
    "def get_median_three(arr):\n",
    "    index_a, index_b, index_c = 0, (len(arr)-1)//2, -1 # the first, middle, and last\n",
    "    a, b, c = arr[index_a], arr[index_b], arr[index_c]\n",
    "    \n",
    "    if (a > b) != (a > c):\n",
    "        return index_a\n",
    "    elif (b > a) != (b > c):\n",
    "        return index_b\n",
    "    else:\n",
    "        return index_c  "
   ]
  },
  {
   "cell_type": "code",
   "execution_count": 13,
   "metadata": {},
   "outputs": [
    {
     "name": "stdout",
     "output_type": "stream",
     "text": [
      "[1, 2, 2, 3, 4, 5, 6, 10, 19, 25, 135]\n"
     ]
    }
   ],
   "source": [
    "# Test case\n",
    "test_list = [4, 3, 5, 10, 1, 19, 6, 25, 135, 2, 2]\n",
    "print(quick_sort(test_list))"
   ]
  }
 ],
 "metadata": {
  "colab": {
   "name": "03_search_and_sorting.ipynb",
   "provenance": []
  },
  "kernelspec": {
   "display_name": "Python 3",
   "language": "python",
   "name": "python3"
  },
  "language_info": {
   "codemirror_mode": {
    "name": "ipython",
    "version": 3
   },
   "file_extension": ".py",
   "mimetype": "text/x-python",
   "name": "python",
   "nbconvert_exporter": "python",
   "pygments_lexer": "ipython3",
   "version": "3.7.6"
  }
 },
 "nbformat": 4,
 "nbformat_minor": 1
}
